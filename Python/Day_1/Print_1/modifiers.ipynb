{
 "cells": [
  {
   "cell_type": "code",
   "execution_count": 4,
   "id": "b273459d-2faf-4647-b94e-f60ba904d52c",
   "metadata": {},
   "outputs": [
    {
     "name": "stdout",
     "output_type": "stream",
     "text": [
      "A 'single quote' inside a double quote\n",
      "A 'double quote' inside a single quote\n",
      "Alternatively you can just \"escape\" the quote\n"
     ]
    }
   ],
   "source": [
    "print(\"A 'single quote' inside a double quote\")\n",
    "print(\"A 'double quote' inside a single quote\")\n",
    "print(\"Alternatively you can just \\\"escape\\\" the quote\")"
   ]
  }
 ],
 "metadata": {
  "kernelspec": {
   "display_name": "Python 3 (ipykernel)",
   "language": "python",
   "name": "python3"
  },
  "language_info": {
   "codemirror_mode": {
    "name": "ipython",
    "version": 3
   },
   "file_extension": ".py",
   "mimetype": "text/x-python",
   "name": "python",
   "nbconvert_exporter": "python",
   "pygments_lexer": "ipython3",
   "version": "3.11.7"
  }
 },
 "nbformat": 4,
 "nbformat_minor": 5
}
