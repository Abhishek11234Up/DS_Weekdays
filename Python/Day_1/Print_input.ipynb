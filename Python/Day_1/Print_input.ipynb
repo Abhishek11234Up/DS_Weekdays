{
 "cells": [
  {
   "cell_type": "code",
   "execution_count": 1,
   "id": "d662159d-00ea-4473-9a37-950079948e04",
   "metadata": {},
   "outputs": [
    {
     "name": "stdout",
     "output_type": "stream",
     "text": [
      "hello World!\n"
     ]
    }
   ],
   "source": [
    "print(\"hello World!\")"
   ]
  },
  {
   "cell_type": "code",
   "execution_count": 2,
   "id": "3c5549ac-51eb-4b37-909d-9e07412245f7",
   "metadata": {},
   "outputs": [],
   "source": [
    "# print() is a output function"
   ]
  },
  {
   "cell_type": "code",
   "execution_count": 3,
   "id": "e3f99042-bec8-4f50-a08f-0193e7506fe3",
   "metadata": {},
   "outputs": [
    {
     "name": "stdout",
     "output_type": "stream",
     "text": [
      "What is your name ? \n"
     ]
    }
   ],
   "source": [
    "print(\"What is your name ? \")"
   ]
  },
  {
   "cell_type": "code",
   "execution_count": 4,
   "id": "7733e092-8f4b-48ab-b4af-a99c99e05289",
   "metadata": {},
   "outputs": [
    {
     "name": "stdin",
     "output_type": "stream",
     "text": [
      "What is your name ?  Sagar\n"
     ]
    },
    {
     "data": {
      "text/plain": [
       "'Sagar'"
      ]
     },
     "execution_count": 4,
     "metadata": {},
     "output_type": "execute_result"
    }
   ],
   "source": [
    "input(\"What is your name ? \")"
   ]
  },
  {
   "cell_type": "markdown",
   "id": "b4fc54de-e7a0-41f4-b0ad-aabca53b4d91",
   "metadata": {},
   "source": [
    "# https://colab.google/"
   ]
  },
  {
   "cell_type": "code",
   "execution_count": 5,
   "id": "fe03c9c9-15ec-4823-a46b-90085e693f8c",
   "metadata": {},
   "outputs": [
    {
     "name": "stdout",
     "output_type": "stream",
     "text": [
      "Neer Sagar\n"
     ]
    }
   ],
   "source": [
    "print(\"Neer\", \"Sagar\")"
   ]
  },
  {
   "cell_type": "code",
   "execution_count": null,
   "id": "112f8f46-f874-441e-8f45-082931013cdd",
   "metadata": {},
   "outputs": [],
   "source": []
  }
 ],
 "metadata": {
  "kernelspec": {
   "display_name": "Python 3 (ipykernel)",
   "language": "python",
   "name": "python3"
  },
  "language_info": {
   "codemirror_mode": {
    "name": "ipython",
    "version": 3
   },
   "file_extension": ".py",
   "mimetype": "text/x-python",
   "name": "python",
   "nbconvert_exporter": "python",
   "pygments_lexer": "ipython3",
   "version": "3.11.7"
  }
 },
 "nbformat": 4,
 "nbformat_minor": 5
}
