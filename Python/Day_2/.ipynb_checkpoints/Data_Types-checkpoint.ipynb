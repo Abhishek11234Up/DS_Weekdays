{
 "cells": [
  {
   "cell_type": "code",
   "execution_count": 3,
   "id": "874c050e-93a7-4fef-ba2f-fbba064df420",
   "metadata": {},
   "outputs": [],
   "source": [
    "# String --> str()\n",
    "# Sequence of Characters is called as string. (char/Text)"
   ]
  },
  {
   "cell_type": "code",
   "execution_count": 4,
   "id": "5db7a61a-d929-42a2-a03e-198ce0e56960",
   "metadata": {},
   "outputs": [],
   "source": [
    "# 1. Method\n",
    "\n",
    "Mera_Naam = 'Amit'\n",
    "Mera_Dusra_nam = \"Abhishek\""
   ]
  },
  {
   "cell_type": "code",
   "execution_count": 6,
   "id": "155e699b-1792-48d7-aac1-420a5721b324",
   "metadata": {},
   "outputs": [
    {
     "name": "stdout",
     "output_type": "stream",
     "text": [
      "Amit\n",
      "Abhishek\n"
     ]
    }
   ],
   "source": [
    "print(Mera_Naam)\n",
    "print(Mera_Dusra_nam)"
   ]
  },
  {
   "cell_type": "code",
   "execution_count": 7,
   "id": "bf5e25c6-109c-494f-9208-806d57a8c253",
   "metadata": {},
   "outputs": [
    {
     "name": "stdout",
     "output_type": "stream",
     "text": [
      "<class 'str'>\n",
      "<class 'str'>\n"
     ]
    }
   ],
   "source": [
    "print(type(Mera_Naam))\n",
    "print(type(Mera_Dusra_nam))"
   ]
  },
  {
   "cell_type": "code",
   "execution_count": 13,
   "id": "e3da8988-9cd7-4bb4-b71f-7da354a08e68",
   "metadata": {},
   "outputs": [
    {
     "name": "stdout",
     "output_type": "stream",
     "text": [
      "<class 'int'>\n"
     ]
    }
   ],
   "source": [
    "# 2nd method\n",
    "x = 12345\n",
    "print(type(x))"
   ]
  },
  {
   "cell_type": "code",
   "execution_count": 14,
   "id": "a3449638-4fff-42c6-8428-7f620b4617fd",
   "metadata": {},
   "outputs": [
    {
     "name": "stdout",
     "output_type": "stream",
     "text": [
      "<class 'str'>\n"
     ]
    }
   ],
   "source": [
    "Nick_Name = str(x)\n",
    "print(type(Nick_Name))"
   ]
  },
  {
   "cell_type": "code",
   "execution_count": 15,
   "id": "5e6fb5ff-c30f-4aaa-8e97-dc5c0f165edc",
   "metadata": {},
   "outputs": [],
   "source": [
    "# Numeric Type -- int, float, complex"
   ]
  },
  {
   "cell_type": "code",
   "execution_count": 16,
   "id": "e997a0b4-c1e2-4e65-9a39-8d82a26f809e",
   "metadata": {},
   "outputs": [
    {
     "name": "stdout",
     "output_type": "stream",
     "text": [
      "<class 'int'>\n",
      "2\n"
     ]
    }
   ],
   "source": [
    "a = 2\n",
    "print(type(a))\n",
    "print(a)"
   ]
  },
  {
   "cell_type": "code",
   "execution_count": 17,
   "id": "cfeda0ec-3289-4239-9e81-daec2e0f3e91",
   "metadata": {},
   "outputs": [
    {
     "name": "stdout",
     "output_type": "stream",
     "text": [
      "<class 'float'>\n",
      "2.5\n"
     ]
    }
   ],
   "source": [
    "b = 2.5\n",
    "print(type(b))\n",
    "print(b)"
   ]
  },
  {
   "cell_type": "code",
   "execution_count": 18,
   "id": "dce49229-11b0-4408-96b4-933e0055b092",
   "metadata": {},
   "outputs": [
    {
     "name": "stdout",
     "output_type": "stream",
     "text": [
      "<class 'complex'>\n",
      "(2+3j)\n"
     ]
    }
   ],
   "source": [
    "c = 2 + 3j\n",
    "print(type(c))\n",
    "print(c)"
   ]
  },
  {
   "cell_type": "code",
   "execution_count": 19,
   "id": "ba35a3d5-14eb-4c13-abaf-860aa41e92eb",
   "metadata": {},
   "outputs": [
    {
     "name": "stdout",
     "output_type": "stream",
     "text": [
      "2.0\n"
     ]
    }
   ],
   "source": [
    "# Type Conversion\n",
    "a = float(a)\n",
    "print(a)"
   ]
  },
  {
   "cell_type": "code",
   "execution_count": 20,
   "id": "9451a500-332a-4774-ad43-6758dde5d22a",
   "metadata": {},
   "outputs": [],
   "source": [
    "a = complex(a)"
   ]
  },
  {
   "cell_type": "code",
   "execution_count": 21,
   "id": "7d9517bd-120e-4b43-aeec-01da97f3a6cd",
   "metadata": {},
   "outputs": [
    {
     "data": {
      "text/plain": [
       "(2+0j)"
      ]
     },
     "execution_count": 21,
     "metadata": {},
     "output_type": "execute_result"
    }
   ],
   "source": [
    "a"
   ]
  },
  {
   "cell_type": "code",
   "execution_count": 22,
   "id": "202da812-0881-4b8b-b36d-5c2bedfcd1af",
   "metadata": {},
   "outputs": [
    {
     "ename": "TypeError",
     "evalue": "int() argument must be a string, a bytes-like object or a real number, not 'complex'",
     "output_type": "error",
     "traceback": [
      "\u001b[1;31m---------------------------------------------------------------------------\u001b[0m",
      "\u001b[1;31mTypeError\u001b[0m                                 Traceback (most recent call last)",
      "Cell \u001b[1;32mIn[22], line 1\u001b[0m\n\u001b[1;32m----> 1\u001b[0m a \u001b[38;5;241m=\u001b[39m \u001b[38;5;28mint\u001b[39m(a)\n",
      "\u001b[1;31mTypeError\u001b[0m: int() argument must be a string, a bytes-like object or a real number, not 'complex'"
     ]
    }
   ],
   "source": [
    "a = int(a)"
   ]
  },
  {
   "cell_type": "code",
   "execution_count": 23,
   "id": "7d87df72-9efe-4a0a-87fd-2e8279112e78",
   "metadata": {},
   "outputs": [],
   "source": [
    "b = str(b)"
   ]
  },
  {
   "cell_type": "code",
   "execution_count": 24,
   "id": "9f4971bd-3847-42d4-bd57-bdd2a3fa3dc6",
   "metadata": {},
   "outputs": [
    {
     "data": {
      "text/plain": [
       "'2.5'"
      ]
     },
     "execution_count": 24,
     "metadata": {},
     "output_type": "execute_result"
    }
   ],
   "source": [
    "b"
   ]
  },
  {
   "cell_type": "code",
   "execution_count": 26,
   "id": "3d6ef19c-af52-4e76-9aa3-134e7f907b68",
   "metadata": {},
   "outputs": [
    {
     "name": "stdout",
     "output_type": "stream",
     "text": [
      "<class 'list'>\n",
      "[45, 89, 83, 88, 60]\n"
     ]
    }
   ],
   "source": [
    "# Sequence types\n",
    "\n",
    "my_marks = [45, 89, 83, 88, 60]\n",
    "\n",
    "print(type(my_marks))\n",
    "print(my_marks)"
   ]
  },
  {
   "cell_type": "code",
   "execution_count": 29,
   "id": "7d447c5a-db81-46ae-829e-b320a3b9b74a",
   "metadata": {},
   "outputs": [
    {
     "name": "stdout",
     "output_type": "stream",
     "text": [
      "<class 'list'>\n",
      "['Distraction', 'Anxiety', 'Culture', 'Rituals']\n"
     ]
    }
   ],
   "source": [
    "my_failures = list((\"Distraction\", \"Anxiety\", \"Culture\", \"Rituals\"))\n",
    "print(type(my_failures))\n",
    "print(my_failures)"
   ]
  },
  {
   "cell_type": "code",
   "execution_count": 31,
   "id": "f269bb2e-a5d2-43ed-9789-1a8e94f2bad2",
   "metadata": {},
   "outputs": [
    {
     "data": {
      "text/plain": [
       "['Distraction']"
      ]
     },
     "execution_count": 31,
     "metadata": {},
     "output_type": "execute_result"
    }
   ],
   "source": [
    "my_failures[0]"
   ]
  },
  {
   "cell_type": "code",
   "execution_count": 32,
   "id": "b32f6358-1e26-4ba0-8435-a32a44d616c1",
   "metadata": {},
   "outputs": [
    {
     "name": "stdout",
     "output_type": "stream",
     "text": [
      "4\n"
     ]
    }
   ],
   "source": [
    "print(len(my_failures))"
   ]
  },
  {
   "cell_type": "code",
   "execution_count": 33,
   "id": "efe33f0d-890d-4aa6-aeb2-0f06e974a0a5",
   "metadata": {},
   "outputs": [
    {
     "data": {
      "text/plain": [
       "'Abhishek'"
      ]
     },
     "execution_count": 33,
     "metadata": {},
     "output_type": "execute_result"
    }
   ],
   "source": [
    "Mera_Dusra_nam"
   ]
  },
  {
   "cell_type": "code",
   "execution_count": 34,
   "id": "863df707-e508-4042-bce0-cdf3c3c07438",
   "metadata": {},
   "outputs": [
    {
     "data": {
      "text/plain": [
       "8"
      ]
     },
     "execution_count": 34,
     "metadata": {},
     "output_type": "execute_result"
    }
   ],
   "source": [
    "len(Mera_Dusra_nam)"
   ]
  },
  {
   "cell_type": "code",
   "execution_count": 35,
   "id": "5cf0497b-0db3-47cd-bc43-f64c53b2b6ad",
   "metadata": {},
   "outputs": [
    {
     "data": {
      "text/plain": [
       "'k'"
      ]
     },
     "execution_count": 35,
     "metadata": {},
     "output_type": "execute_result"
    }
   ],
   "source": [
    "Mera_Dusra_nam[7]"
   ]
  },
  {
   "cell_type": "code",
   "execution_count": 36,
   "id": "5a316ab5-d5f4-4ef1-97bb-79249a2791d9",
   "metadata": {},
   "outputs": [
    {
     "data": {
      "text/plain": [
       "'k'"
      ]
     },
     "execution_count": 36,
     "metadata": {},
     "output_type": "execute_result"
    }
   ],
   "source": [
    "Mera_Dusra_nam[-1]"
   ]
  },
  {
   "cell_type": "code",
   "execution_count": 37,
   "id": "746da47f-8342-408e-92bd-38fefaf073e1",
   "metadata": {},
   "outputs": [
    {
     "data": {
      "text/plain": [
       "'b'"
      ]
     },
     "execution_count": 37,
     "metadata": {},
     "output_type": "execute_result"
    }
   ],
   "source": [
    "Mera_Dusra_nam[-7]"
   ]
  },
  {
   "cell_type": "code",
   "execution_count": 39,
   "id": "8a77cbff-ac1a-40d3-96a3-2860752d4a6a",
   "metadata": {},
   "outputs": [
    {
     "data": {
      "text/plain": [
       "'Abhi'"
      ]
     },
     "execution_count": 39,
     "metadata": {},
     "output_type": "execute_result"
    }
   ],
   "source": [
    "# Range of indexes --> [start:end]\n",
    "Mera_Dusra_nam[0:4]"
   ]
  },
  {
   "cell_type": "code",
   "execution_count": 40,
   "id": "2d52f85f-1044-4d54-8ee5-fcf337f1500d",
   "metadata": {},
   "outputs": [
    {
     "data": {
      "text/plain": [
       "'Abhi'"
      ]
     },
     "execution_count": 40,
     "metadata": {},
     "output_type": "execute_result"
    }
   ],
   "source": [
    "Mera_Dusra_nam[:4]"
   ]
  },
  {
   "cell_type": "code",
   "execution_count": 41,
   "id": "8c604f9b-7d44-4341-ac9d-8149d4b12281",
   "metadata": {},
   "outputs": [
    {
     "data": {
      "text/plain": [
       "'shek'"
      ]
     },
     "execution_count": 41,
     "metadata": {},
     "output_type": "execute_result"
    }
   ],
   "source": [
    "Mera_Dusra_nam[4:]"
   ]
  },
  {
   "cell_type": "code",
   "execution_count": 43,
   "id": "270ddf1d-63bc-4495-a04b-506c06fb18f8",
   "metadata": {},
   "outputs": [
    {
     "data": {
      "text/plain": [
       "'Abhishek'"
      ]
     },
     "execution_count": 43,
     "metadata": {},
     "output_type": "execute_result"
    }
   ],
   "source": [
    "Mera_Dusra_nam[:]"
   ]
  },
  {
   "cell_type": "code",
   "execution_count": 44,
   "id": "694d3d7d-3be5-442b-a7be-299b4e3a7d7e",
   "metadata": {},
   "outputs": [
    {
     "data": {
      "text/plain": [
       "'shek'"
      ]
     },
     "execution_count": 44,
     "metadata": {},
     "output_type": "execute_result"
    }
   ],
   "source": [
    "Mera_Dusra_nam[-4:]"
   ]
  },
  {
   "cell_type": "code",
   "execution_count": 45,
   "id": "77df99c3-9a74-477f-9994-186c888aaaac",
   "metadata": {},
   "outputs": [
    {
     "data": {
      "text/plain": [
       "[45, 89, 83, 88, 60]"
      ]
     },
     "execution_count": 45,
     "metadata": {},
     "output_type": "execute_result"
    }
   ],
   "source": [
    "my_marks[0:]"
   ]
  },
  {
   "cell_type": "code",
   "execution_count": 46,
   "id": "278a7140-6379-44f8-b712-382d226df8fa",
   "metadata": {},
   "outputs": [
    {
     "data": {
      "text/plain": [
       "[45, 89]"
      ]
     },
     "execution_count": 46,
     "metadata": {},
     "output_type": "execute_result"
    }
   ],
   "source": [
    "my_marks[0:2]"
   ]
  },
  {
   "cell_type": "code",
   "execution_count": 47,
   "id": "c2992f99-8856-427c-b844-cb40f03d019e",
   "metadata": {},
   "outputs": [],
   "source": [
    "my_tuple = (1,2,3,4)"
   ]
  },
  {
   "cell_type": "code",
   "execution_count": 48,
   "id": "c9d8f629-62b1-49be-9235-6b77497922c7",
   "metadata": {},
   "outputs": [
    {
     "name": "stdout",
     "output_type": "stream",
     "text": [
      "<class 'tuple'>\n"
     ]
    }
   ],
   "source": [
    "print(type(my_tuple))"
   ]
  },
  {
   "cell_type": "code",
   "execution_count": 49,
   "id": "2d1b63b0-45ce-4597-8e6e-500575aa744a",
   "metadata": {},
   "outputs": [
    {
     "name": "stdout",
     "output_type": "stream",
     "text": [
      "(1, 2, 3, 4)\n"
     ]
    }
   ],
   "source": [
    "print(my_tuple)"
   ]
  },
  {
   "cell_type": "code",
   "execution_count": 50,
   "id": "2c5092ec-0eb3-4354-8125-75c6ebb60323",
   "metadata": {},
   "outputs": [
    {
     "name": "stdout",
     "output_type": "stream",
     "text": [
      "{'name': 'John', 'age': 36}\n",
      "<class 'dict'>\n"
     ]
    }
   ],
   "source": [
    "x = {\"name\" : \"John\", \"age\" : 36}\n",
    "\n",
    "#display x:\n",
    "print(x)\n",
    "\n",
    "#display the data type of x:\n",
    "print(type(x)) "
   ]
  },
  {
   "cell_type": "code",
   "execution_count": 51,
   "id": "a5ab8013-603b-412d-bee3-ee7115b51505",
   "metadata": {},
   "outputs": [],
   "source": [
    "# Boolean\n",
    "\n",
    "e = True\n",
    "f = False"
   ]
  },
  {
   "cell_type": "code",
   "execution_count": 52,
   "id": "d43a347d-b1f2-461b-97f5-fe4553badb18",
   "metadata": {},
   "outputs": [
    {
     "name": "stdout",
     "output_type": "stream",
     "text": [
      "True\n"
     ]
    }
   ],
   "source": [
    "print(e)"
   ]
  },
  {
   "cell_type": "code",
   "execution_count": 53,
   "id": "5364c44a-5907-4715-9c0b-ff3386efcdb2",
   "metadata": {},
   "outputs": [
    {
     "data": {
      "text/plain": [
       "bool"
      ]
     },
     "execution_count": 53,
     "metadata": {},
     "output_type": "execute_result"
    }
   ],
   "source": [
    "type(f)"
   ]
  }
 ],
 "metadata": {
  "kernelspec": {
   "display_name": "Python 3 (ipykernel)",
   "language": "python",
   "name": "python3"
  },
  "language_info": {
   "codemirror_mode": {
    "name": "ipython",
    "version": 3
   },
   "file_extension": ".py",
   "mimetype": "text/x-python",
   "name": "python",
   "nbconvert_exporter": "python",
   "pygments_lexer": "ipython3",
   "version": "3.11.7"
  }
 },
 "nbformat": 4,
 "nbformat_minor": 5
}
